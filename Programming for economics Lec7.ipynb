{
 "cells": [
  {
   "cell_type": "code",
   "execution_count": 3,
   "id": "479a13ef-c2ea-4f46-8f70-478192278814",
   "metadata": {},
   "outputs": [
    {
     "data": {
      "text/plain": [
       "2777859956992"
      ]
     },
     "execution_count": 3,
     "metadata": {},
     "output_type": "execute_result"
    }
   ],
   "source": [
    "x = 'foo'\n",
    "id(x)\n"
   ]
  },
  {
   "cell_type": "code",
   "execution_count": 6,
   "id": "c698d337-aa0b-43b0-92bc-904419fa9712",
   "metadata": {},
   "outputs": [
    {
     "data": {
      "text/plain": [
       "2777859958768"
      ]
     },
     "execution_count": 6,
     "metadata": {},
     "output_type": "execute_result"
    }
   ],
   "source": [
    "\n",
    "x = 'bar'  \n",
    "id(x)"
   ]
  },
  {
   "cell_type": "code",
   "execution_count": 8,
   "id": "490ee2a3-b291-40c4-98dc-1edb794de57c",
   "metadata": {},
   "outputs": [
    {
     "name": "stdout",
     "output_type": "stream",
     "text": [
      "Variable               Type             Data/Info\n",
      "-------------------------------------------------\n",
      "NamespaceMagics        MetaHasTraits    <class 'IPython.core.magi<...>mespace.NamespaceMagics'>\n",
      "dataframe_columns      function         <function dataframe_colum<...>ns at 0x00000286CB2D8860>\n",
      "dataframe_hash         function         <function dataframe_hash at 0x00000286CB2D8400>\n",
      "dtypes_str             function         <function dtypes_str at 0x00000286CB2D84A0>\n",
      "get_dataframes         function         <function get_dataframes at 0x00000286CB2D8540>\n",
      "get_ipython            function         <function get_ipython at 0x00000286C5506AC0>\n",
      "getpass                module           <module 'getpass' from 'C<...>conda3\\\\Lib\\\\getpass.py'>\n",
      "hashlib                module           <module 'hashlib' from 'C<...>conda3\\\\Lib\\\\hashlib.py'>\n",
      "import_pandas_safely   function         <function import_pandas_s<...>ly at 0x00000286C8477BA0>\n",
      "is_data_frame          function         <function is_data_frame at 0x00000286C8477100>\n",
      "json                   module           <module 'json' from 'C:\\\\<...>\\Lib\\\\json\\\\__init__.py'>\n",
      "np                     module           <module 'numpy' from 'C:\\<...>ges\\\\numpy\\\\__init__.py'>\n",
      "sys                    module           <module 'sys' (built-in)>\n",
      "x                      int              2\n",
      "y                      int              3\n"
     ]
    }
   ],
   "source": [
    "x = 2\n",
    "y = 3\n",
    "\n",
    "import numpy as np\n",
    "\n",
    "%whos"
   ]
  },
  {
   "cell_type": "code",
   "execution_count": 14,
   "id": "7084233b-e49a-4eaf-bfc5-15a0656707f8",
   "metadata": {},
   "outputs": [],
   "source": [
    "def f(x):\n",
    "    a = 2\n",
    "    print(locals()) #local variables\n",
    "    return a * x"
   ]
  },
  {
   "cell_type": "code",
   "execution_count": 12,
   "id": "b0242eff-3bfa-4cfd-8ae8-50e37dcb2ca1",
   "metadata": {},
   "outputs": [
    {
     "name": "stdout",
     "output_type": "stream",
     "text": [
      "{'x': 1, 'a': 2}\n"
     ]
    },
    {
     "data": {
      "text/plain": [
       "2"
      ]
     },
     "execution_count": 12,
     "metadata": {},
     "output_type": "execute_result"
    }
   ],
   "source": [
    "f(1)"
   ]
  },
  {
   "cell_type": "code",
   "execution_count": 16,
   "id": "429e0292-41e4-40c5-ae1b-5c58afda5da5",
   "metadata": {},
   "outputs": [
    {
     "data": {
      "text/plain": [
       "['In', 'NamespaceMagics', 'Out', '_', '_1', '_10', '_11', '_12', '_13', '_14']"
      ]
     },
     "execution_count": 16,
     "metadata": {},
     "output_type": "execute_result"
    }
   ],
   "source": [
    "# Show the first 10 names in `__main__`\n",
    "dir()[0:10]"
   ]
  },
  {
   "cell_type": "code",
   "execution_count": 18,
   "id": "e18eacc0-e76c-45e3-8c8f-f062a40dcc3e",
   "metadata": {},
   "outputs": [
    {
     "data": {
      "text/plain": [
       "['ArithmeticError',\n",
       " 'AssertionError',\n",
       " 'AttributeError',\n",
       " 'BaseException',\n",
       " 'BaseExceptionGroup',\n",
       " 'BlockingIOError',\n",
       " 'BrokenPipeError',\n",
       " 'BufferError',\n",
       " 'BytesWarning',\n",
       " 'ChildProcessError']"
      ]
     },
     "execution_count": 18,
     "metadata": {},
     "output_type": "execute_result"
    }
   ],
   "source": [
    "# Show the first 10 names in `__builtins__`\n",
    "dir(__builtins__)[0:10]"
   ]
  },
  {
   "cell_type": "code",
   "execution_count": 20,
   "id": "7864e2db-ce0f-49bd-a964-a1a84e9d9a8f",
   "metadata": {},
   "outputs": [
    {
     "data": {
      "text/plain": [
       "<function max>"
      ]
     },
     "execution_count": 20,
     "metadata": {},
     "output_type": "execute_result"
    }
   ],
   "source": [
    "__builtins__.max"
   ]
  },
  {
   "cell_type": "code",
   "execution_count": 22,
   "id": "5c6c3fc4-929a-4846-99a9-25ace558a6a6",
   "metadata": {},
   "outputs": [
    {
     "data": {
      "text/plain": [
       "<function max>"
      ]
     },
     "execution_count": 22,
     "metadata": {},
     "output_type": "execute_result"
    }
   ],
   "source": [
    "max"
   ]
  },
  {
   "cell_type": "code",
   "execution_count": 24,
   "id": "9d51cbaf-c40a-436b-8c24-2f1e4a37b736",
   "metadata": {},
   "outputs": [
    {
     "data": {
      "text/plain": [
       "True"
      ]
     },
     "execution_count": 24,
     "metadata": {},
     "output_type": "execute_result"
    }
   ],
   "source": [
    "__builtins__.max == max"
   ]
  },
  {
   "cell_type": "markdown",
   "id": "6b503dc7-1502-44ea-84e1-c9fc54bba023",
   "metadata": {},
   "source": [
    "# The order in which the interpreter searches for names is\n",
    "\n",
    "the local namespace (if it exists)\n",
    "\n",
    "the hierarchy of enclosing namespaces (if they exist)\n",
    "\n",
    "the global namespace\n",
    "\n",
    "the builtin namespace"
   ]
  },
  {
   "cell_type": "code",
   "execution_count": null,
   "id": "d594b155-1c88-43f4-a1d6-a34cefa4e8f5",
   "metadata": {},
   "outputs": [],
   "source": [
    "!conda install -c conda-forge nbtutor\n"
   ]
  },
  {
   "cell_type": "code",
   "execution_count": null,
   "id": "698882d8-e91a-4ef7-850d-a49762bf0c8a",
   "metadata": {},
   "outputs": [],
   "source": []
  }
 ],
 "metadata": {
  "kernelspec": {
   "display_name": "Python 3 (ipykernel)",
   "language": "python",
   "name": "python3"
  },
  "language_info": {
   "codemirror_mode": {
    "name": "ipython",
    "version": 3
   },
   "file_extension": ".py",
   "mimetype": "text/x-python",
   "name": "python",
   "nbconvert_exporter": "python",
   "pygments_lexer": "ipython3",
   "version": "3.12.3"
  }
 },
 "nbformat": 4,
 "nbformat_minor": 5
}
