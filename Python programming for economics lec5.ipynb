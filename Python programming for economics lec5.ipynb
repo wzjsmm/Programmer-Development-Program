{
 "cells": [
  {
   "cell_type": "code",
   "execution_count": 33,
   "id": "f206137e-61d3-4c72-8f5e-442b0a52f06a",
   "metadata": {},
   "outputs": [],
   "source": [
    "f = open('newfile.txt','w') # open newfile.txt for writing\n",
    "f.write('Testing \\n')  # here \\n means new line\n",
    "f.write('Testing again')\n",
    "f.close()   #这里的括号不能忘记 忘记就无法关闭文件"
   ]
  },
  {
   "cell_type": "code",
   "execution_count": 35,
   "id": "78ee62ed-537f-4194-b752-93a40d2608ac",
   "metadata": {},
   "outputs": [
    {
     "data": {
      "text/plain": [
       "'C:\\\\Users\\\\u0150495'"
      ]
     },
     "execution_count": 35,
     "metadata": {},
     "output_type": "execute_result"
    }
   ],
   "source": [
    "%pwd"
   ]
  },
  {
   "cell_type": "code",
   "execution_count": 37,
   "id": "371bb5e1-03e6-438a-a867-7f76485d5cba",
   "metadata": {},
   "outputs": [
    {
     "data": {
      "text/plain": [
       "'Testing \\nTesting again'"
      ]
     },
     "execution_count": 37,
     "metadata": {},
     "output_type": "execute_result"
    }
   ],
   "source": [
    "f = open('newfile.txt','r')\n",
    "out = f.read()\n",
    "out"
   ]
  },
  {
   "cell_type": "code",
   "execution_count": 39,
   "id": "cc082a74-66ee-4dc2-9b0f-0392e91b04c5",
   "metadata": {},
   "outputs": [
    {
     "name": "stdout",
     "output_type": "stream",
     "text": [
      "Testing \n",
      "Testing again\n"
     ]
    }
   ],
   "source": [
    "print(out)"
   ]
  },
  {
   "cell_type": "code",
   "execution_count": 45,
   "id": "14ffd9f3-d5d4-49be-a82f-66e535fe25a6",
   "metadata": {},
   "outputs": [],
   "source": [
    "with open('newfile.txt','w') as f:\n",
    "    f.write('Testing\\n')\n",
    "    f.write('Testing again')     #用with就不用担心忘了close 或者别的 他会自动close"
   ]
  },
  {
   "cell_type": "code",
   "execution_count": 47,
   "id": "29304bb9-a923-4bf9-b8aa-02b404ebfd4c",
   "metadata": {},
   "outputs": [
    {
     "name": "stdout",
     "output_type": "stream",
     "text": [
      "Testing\n",
      "Testing again\n"
     ]
    }
   ],
   "source": [
    "with open('newfile.txt','r') as fo:\n",
    "    out = fo.read()\n",
    "    print(out)"
   ]
  },
  {
   "cell_type": "markdown",
   "id": "63d4f858-b5f6-40ca-bcc3-45cacfbda6f7",
   "metadata": {},
   "source": [
    "# 1.1 打开一个文件 写入另一个文件"
   ]
  },
  {
   "cell_type": "code",
   "execution_count": 56,
   "id": "ae97048d-154b-443f-b7b2-d73e1bfeff8b",
   "metadata": {},
   "outputs": [],
   "source": [
    "with open('newfile.txt','r') as f:\n",
    "    file = f.readlines()\n",
    "    with open('output.txt','w') as fo:\n",
    "        for i, line in enumerate(file):\n",
    "            fo.write(f'Line {i}:{line} \\n')"
   ]
  },
  {
   "cell_type": "code",
   "execution_count": 54,
   "id": "9fc20323-f32f-4202-97d7-95117a31b5aa",
   "metadata": {},
   "outputs": [
    {
     "name": "stdout",
     "output_type": "stream",
     "text": [
      "Line0:Testing\n",
      " \n",
      "Line1:Testing again \n",
      "\n"
     ]
    }
   ],
   "source": [
    "with open('output.txt','r') as fo:\n",
    "    print(fo.read())"
   ]
  },
  {
   "cell_type": "code",
   "execution_count": 58,
   "id": "7f017783-e4cc-47ec-a91a-ea1fbe81db7e",
   "metadata": {},
   "outputs": [],
   "source": [
    "# put two codes in one line, one with, two as \n",
    "with open('newfile.txt','r') as f, open('output.txt','w') as fo:\n",
    "    for i, line in enumerate(f):\n",
    "        fo.write(f'Line {i}: {line} \\n')"
   ]
  },
  {
   "cell_type": "code",
   "execution_count": 62,
   "id": "8f0b1fba-979f-49cd-8e44-980737be8b72",
   "metadata": {},
   "outputs": [
    {
     "name": "stdout",
     "output_type": "stream",
     "text": [
      "Line 0: Testing\n",
      " \n",
      "Line 1: Testing again \n",
      "\n"
     ]
    }
   ],
   "source": [
    "with open('output.txt','r') as fo:\n",
    "    print(fo.read())"
   ]
  },
  {
   "cell_type": "code",
   "execution_count": 80,
   "id": "a481f880-ec7f-4ec1-9744-a310d6582651",
   "metadata": {},
   "outputs": [],
   "source": [
    "# Add to a exist file, not rewrite it\n",
    "with open('output.txt','a') as fo:\n",
    "    fo.write('\\nThis is the end of the file') # a模式是直接在文件的末尾加东西 所以要加个\\n 来保证有空行"
   ]
  },
  {
   "cell_type": "code",
   "execution_count": 78,
   "id": "1dd2be2b-3422-46cd-b9e7-6bc7021fe74a",
   "metadata": {},
   "outputs": [
    {
     "name": "stdout",
     "output_type": "stream",
     "text": [
      "Line 0: Testing\n",
      " \n",
      "Line 1: Testing again \n",
      "This is the end of the file\n",
      "This is the end of the file\n",
      " This is the end of the file\n",
      "This is the end of the file\n"
     ]
    }
   ],
   "source": [
    "with open('output.txt','r') as fo:\n",
    "    print(fo.read())"
   ]
  },
  {
   "cell_type": "code",
   "execution_count": 82,
   "id": "f187b03e-9fc4-4add-9a5c-ebb87fc69af8",
   "metadata": {},
   "outputs": [
    {
     "name": "stdout",
     "output_type": "stream",
     "text": [
      "Writing us_cities.txt\n"
     ]
    }
   ],
   "source": [
    "%%writefile us_cities.txt\n",
    "new york: 8244910\n",
    "los angeles: 3819702\n",
    "chicago: 2707120\n",
    "houston: 2145146\n",
    "philadelphia: 1536471\n",
    "phoenix: 1469471\n",
    "san antonio: 1359758\n",
    "san diego: 1326179\n",
    "dallas: 1223229"
   ]
  },
  {
   "cell_type": "code",
   "execution_count": 90,
   "id": "0fed5ae2-59dc-4787-bc11-b06b596bdbd1",
   "metadata": {},
   "outputs": [
    {
     "name": "stdout",
     "output_type": "stream",
     "text": [
      "New York       8,244,910\n",
      "Los Angeles    3,819,702\n",
      "Chicago        2,707,120\n",
      "Houston        2,145,146\n",
      "Philadelphia   1,536,471\n",
      "Phoenix        1,469,471\n",
      "San Antonio    1,359,758\n",
      "San Diego      1,326,179\n",
      "Dallas         1,223,229\n"
     ]
    }
   ],
   "source": [
    "data_file = open('us_cities.txt','r')\n",
    "for line in data_file:\n",
    "    city, population = line.split(':')#Tuple unpacking\n",
    "    city = city.title()\n",
    "    population = f'{int(population):,}'   \n",
    "    print(city.ljust(15) + population)\n",
    "data_file.close()\n"
   ]
  },
  {
   "cell_type": "code",
   "execution_count": 92,
   "id": "93654b74-6b79-40f2-a831-33c9905c7550",
   "metadata": {},
   "outputs": [],
   "source": [
    "def f(x):\n",
    "    \"\"\"\n",
    "    This function squares its argument\n",
    "    \"\"\"\n",
    "    return x**2"
   ]
  },
  {
   "cell_type": "code",
   "execution_count": 94,
   "id": "b7f9ad3f-8e09-4161-ac54-f3f209301d2e",
   "metadata": {},
   "outputs": [
    {
     "data": {
      "text/plain": [
       "\u001b[1;31mSignature:\u001b[0m \u001b[0mf\u001b[0m\u001b[1;33m(\u001b[0m\u001b[0mx\u001b[0m\u001b[1;33m)\u001b[0m\u001b[1;33m\u001b[0m\u001b[1;33m\u001b[0m\u001b[0m\n",
       "\u001b[1;31mDocstring:\u001b[0m This function squares its argument\n",
       "\u001b[1;31mFile:\u001b[0m      c:\\users\\u0150495\\appdata\\local\\temp\\ipykernel_25568\\238177437.py\n",
       "\u001b[1;31mType:\u001b[0m      function"
      ]
     },
     "metadata": {},
     "output_type": "display_data"
    }
   ],
   "source": [
    "f?"
   ]
  },
  {
   "cell_type": "code",
   "execution_count": 96,
   "id": "9357158b-80ea-4ad4-a4a9-7d816622b7a2",
   "metadata": {},
   "outputs": [
    {
     "data": {
      "text/plain": [
       "\u001b[1;31mSignature:\u001b[0m \u001b[0mf\u001b[0m\u001b[1;33m(\u001b[0m\u001b[0mx\u001b[0m\u001b[1;33m)\u001b[0m\u001b[1;33m\u001b[0m\u001b[1;33m\u001b[0m\u001b[0m\n",
       "\u001b[1;31mSource:\u001b[0m   \n",
       "\u001b[1;32mdef\u001b[0m \u001b[0mf\u001b[0m\u001b[1;33m(\u001b[0m\u001b[0mx\u001b[0m\u001b[1;33m)\u001b[0m\u001b[1;33m:\u001b[0m\u001b[1;33m\n",
       "\u001b[0m    \u001b[1;34m\"\"\"\n",
       "    This function squares its argument\n",
       "    \"\"\"\u001b[0m\u001b[1;33m\n",
       "\u001b[0m    \u001b[1;32mreturn\u001b[0m \u001b[0mx\u001b[0m\u001b[1;33m**\u001b[0m\u001b[1;36m2\u001b[0m\u001b[1;33m\u001b[0m\u001b[1;33m\u001b[0m\u001b[0m\n",
       "\u001b[1;31mFile:\u001b[0m      c:\\users\\u0150495\\appdata\\local\\temp\\ipykernel_25568\\238177437.py\n",
       "\u001b[1;31mType:\u001b[0m      function"
      ]
     },
     "metadata": {},
     "output_type": "display_data"
    }
   ],
   "source": [
    "f??"
   ]
  },
  {
   "cell_type": "markdown",
   "id": "db90f3a7-e713-46f2-8a51-e24cadddf2a7",
   "metadata": {},
   "source": [
    "# 5.7 Exercises"
   ]
  },
  {
   "cell_type": "code",
   "execution_count": 99,
   "id": "16604f67-0a7b-4e10-9d7d-fb8358fc8ecd",
   "metadata": {},
   "outputs": [
    {
     "data": {
      "text/plain": [
       "6"
      ]
     },
     "execution_count": 99,
     "metadata": {},
     "output_type": "execute_result"
    }
   ],
   "source": [
    "x_vals = [1, 2, 3]\n",
    "y_vals = [1, 1, 1]\n",
    "# use zip() to calculate the inner product\n",
    "sum(x*y for x, y in zip(x_vals, y_vals))"
   ]
  },
  {
   "cell_type": "code",
   "execution_count": 103,
   "id": "045133b9-56e7-4ae0-9c3c-7eb4b8224350",
   "metadata": {},
   "outputs": [
    {
     "data": {
      "text/plain": [
       "6"
      ]
     },
     "execution_count": 103,
     "metadata": {},
     "output_type": "execute_result"
    }
   ],
   "source": [
    "#answer\n",
    "sum([x * y for x, y in zip(x_vals, y_vals)]) #看起来更清楚"
   ]
  },
  {
   "cell_type": "code",
   "execution_count": 107,
   "id": "857d1fae-f2cd-42f7-8b7b-e70b32ca84e2",
   "metadata": {},
   "outputs": [
    {
     "data": {
      "text/plain": [
       "50"
      ]
     },
     "execution_count": 107,
     "metadata": {},
     "output_type": "execute_result"
    }
   ],
   "source": [
    "#count the number of even numbers from 0,...,99\n",
    "sum(x % 2 == 0 for x in range(100))"
   ]
  },
  {
   "cell_type": "code",
   "execution_count": 109,
   "id": "a29d8558-560d-4c11-8e93-e6e44a7e6104",
   "metadata": {},
   "outputs": [
    {
     "data": {
      "text/plain": [
       "2"
      ]
     },
     "execution_count": 109,
     "metadata": {},
     "output_type": "execute_result"
    }
   ],
   "source": [
    "#Given pairs = ((2, 5), (4, 2), (9, 8), (12, 10)), count the number of pairs (a, b) such that both a and b are even.\n",
    "pairs = ((2, 5), (4, 2), (9, 8), (12, 10))\n",
    "sum(x % 2 == 0 and y % 2 == 0 for x, y in pairs)"
   ]
  },
  {
   "cell_type": "code",
   "execution_count": 117,
   "id": "e1d510ad-c8d8-499c-ae2c-d9c53292a527",
   "metadata": {},
   "outputs": [],
   "source": [
    "#5.2 \n",
    "def p(x, coeff):\n",
    "    return sum(a * x ** i for i, a in enumerate(coeff))\n",
    "    "
   ]
  },
  {
   "cell_type": "code",
   "execution_count": 121,
   "id": "067a93ba-850c-48a2-9a62-5e1e7774b3df",
   "metadata": {},
   "outputs": [
    {
     "data": {
      "text/plain": [
       "7"
      ]
     },
     "execution_count": 121,
     "metadata": {},
     "output_type": "execute_result"
    }
   ],
   "source": [
    "p(1, (2,5))"
   ]
  },
  {
   "cell_type": "code",
   "execution_count": 137,
   "id": "46444e57-fdc0-4664-8d4f-e8d17b833e01",
   "metadata": {},
   "outputs": [],
   "source": [
    "def f(x):\n",
    "    count = 0\n",
    "    for letter in x:\n",
    "        if letter == letter.upper():\n",
    "            count += 1\n",
    "    return count"
   ]
  },
  {
   "cell_type": "code",
   "execution_count": 141,
   "id": "f5c0a002-987d-4939-8267-fd6d50d6c704",
   "metadata": {},
   "outputs": [
    {
     "data": {
      "text/plain": [
       "1"
      ]
     },
     "execution_count": 141,
     "metadata": {},
     "output_type": "execute_result"
    }
   ],
   "source": [
    "f(\"aaaA\")"
   ]
  },
  {
   "cell_type": "code",
   "execution_count": 145,
   "id": "2b6df796-7e73-401b-9ddf-adf92d526755",
   "metadata": {},
   "outputs": [
    {
     "data": {
      "text/plain": [
       "3"
      ]
     },
     "execution_count": 145,
     "metadata": {},
     "output_type": "execute_result"
    }
   ],
   "source": [
    "# answer\n",
    "def f(string):\n",
    "    count = 0\n",
    "    for letter in string:\n",
    "        if letter == letter.upper() and letter.isalpha():\n",
    "            count += 1\n",
    "    return count\n",
    "\n",
    "f('The Rain in Spain')\n",
    "\n",
    "# letter.isalpha 保证一定是大写 会更严谨\n",
    "def count_uppercase_chars(s):\n",
    "    return sum([c.isupper() for c in s])\n",
    "\n",
    "count_uppercase_chars('The Rain in Spain')"
   ]
  },
  {
   "cell_type": "code",
   "execution_count": 147,
   "id": "5c467af4-461e-49bf-aebd-497670853fdf",
   "metadata": {},
   "outputs": [],
   "source": [
    "#5.4\n",
    "def f(seq_a, seq_b):\n",
    "    for a in seq_a:\n",
    "        if a not in seq_b:\n",
    "            return False\n",
    "    return True"
   ]
  },
  {
   "cell_type": "code",
   "execution_count": 149,
   "id": "c1a4ce26-9f66-4738-8c47-7e4a0c77e6db",
   "metadata": {},
   "outputs": [
    {
     "data": {
      "text/plain": [
       "False"
      ]
     },
     "execution_count": 149,
     "metadata": {},
     "output_type": "execute_result"
    }
   ],
   "source": [
    "f(\"abd\", \"cdsf\")"
   ]
  },
  {
   "cell_type": "code",
   "execution_count": 153,
   "id": "f327958b-c1a2-4224-8672-4cae5c95cd63",
   "metadata": {},
   "outputs": [
    {
     "name": "stdout",
     "output_type": "stream",
     "text": [
      "True\n",
      "False\n",
      "True\n",
      "False\n"
     ]
    }
   ],
   "source": [
    "#answer\n",
    "def f(seq_a, seq_b):\n",
    "  return all([i in seq_b for i in seq_a])\n",
    "\n",
    "# == test == #\n",
    "print(f(\"ab\", \"cadb\"))\n",
    "print(f(\"ab\", \"cjdb\"))\n",
    "print(f([1, 2], [1, 2, 3]))\n",
    "print(f([1, 2, 3], [1, 2]))\n",
    "\n",
    "def f(seq_a, seq_b):\n",
    "    return set(seq_a).issubset(set(seq_b))"
   ]
  },
  {
   "cell_type": "code",
   "execution_count": 155,
   "id": "2a495456-0fac-4f7a-9212-ddfbcf5f414d",
   "metadata": {},
   "outputs": [],
   "source": [
    "def linapprox(f, a, b, n, x):\n",
    "    \"\"\"\n",
    "    Evaluates the piecewise linear interpolant of f at x on the interval\n",
    "    [a, b], with n evenly spaced grid points.\n",
    "\n",
    "    Parameters\n",
    "    ==========\n",
    "        f : function\n",
    "            The function to approximate\n",
    "\n",
    "        x, a, b : scalars (floats or integers)\n",
    "            Evaluation point and endpoints, with a <= x <= b\n",
    "\n",
    "        n : integer\n",
    "            Number of grid points\n",
    "\n",
    "    Returns\n",
    "    =======\n",
    "        A float. The interpolant evaluated at x\n",
    "\n",
    "    \"\"\"\n",
    "    length_of_interval = b - a\n",
    "    num_subintervals = n - 1\n",
    "    step = length_of_interval / num_subintervals\n",
    "\n",
    "    # === find first grid point larger than x === #\n",
    "    point = a\n",
    "    while point <= x:\n",
    "        point += step\n",
    "\n",
    "    # === x must lie between the gridpoints (point - step) and point === #\n",
    "    u, v = point - step, point\n",
    "\n",
    "    return f(u) + (x - u) * (f(v) - f(u)) / (v - u)"
   ]
  },
  {
   "cell_type": "code",
   "execution_count": 159,
   "id": "5a22c703-f6d7-4c37-9dae-7eeb6ea0a1c3",
   "metadata": {},
   "outputs": [],
   "source": [
    "# use list to simplify loop code\n",
    "import numpy as np\n",
    "n = 100\n",
    "ϵ_values = [np.random.randn() for i in range(n)]"
   ]
  },
  {
   "cell_type": "code",
   "execution_count": null,
   "id": "90d4c31a-afa7-486f-9c67-08512551b987",
   "metadata": {},
   "outputs": [],
   "source": []
  }
 ],
 "metadata": {
  "kernelspec": {
   "display_name": "Python 3 (ipykernel)",
   "language": "python",
   "name": "python3"
  },
  "language_info": {
   "codemirror_mode": {
    "name": "ipython",
    "version": 3
   },
   "file_extension": ".py",
   "mimetype": "text/x-python",
   "name": "python",
   "nbconvert_exporter": "python",
   "pygments_lexer": "ipython3",
   "version": "3.12.3"
  }
 },
 "nbformat": 4,
 "nbformat_minor": 5
}
